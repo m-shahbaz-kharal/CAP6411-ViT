{
 "cells": [
  {
   "cell_type": "markdown",
   "metadata": {},
   "source": [
    "### Import Libraries"
   ]
  },
  {
   "cell_type": "code",
   "execution_count": 1,
   "metadata": {},
   "outputs": [
    {
     "name": "stderr",
     "output_type": "stream",
     "text": [
      "/home/cap6411.student12/my-envs/ViT/lib/python3.9/site-packages/tqdm/auto.py:21: TqdmWarning: IProgress not found. Please update jupyter and ipywidgets. See https://ipywidgets.readthedocs.io/en/stable/user_install.html\n",
      "  from .autonotebook import tqdm as notebook_tqdm\n"
     ]
    }
   ],
   "source": [
    "import os\n",
    "import time\n",
    "import torch\n",
    "import numpy as np\n",
    "import timm\n",
    "from datasets import load_dataset\n",
    "\n",
    "import wandb\n",
    "\n",
    "torch.cuda.empty_cache()"
   ]
  },
  {
   "cell_type": "markdown",
   "metadata": {},
   "source": [
    "### Parameters"
   ]
  },
  {
   "cell_type": "code",
   "execution_count": 2,
   "metadata": {},
   "outputs": [],
   "source": [
    "# selection: you can select multiple but consider the memory\n",
    "selected_datasets = {'Oxford-IIIT-Pets': 'jonathancui/oxford-pets',\n",
    "                     'Oxford-Flowers-102': 'nelorth/oxford-flowers',\n",
    "                     'CIFAR-10': 'cifar10',\n",
    "                     'CIFAR-100': 'cifar100',\n",
    "                     'ImageNet': 'imagenet-1k',\n",
    "                     # 'ImageNetReaL': 'imagenet-1k',\n",
    "} # couldn't find VTAB\n",
    "\n",
    "selected_models = {\n",
    "                   # 'ViT-L-16': 'vit_large_patch16_224.augreg_in21k',\n",
    "                   #'ViT-L-16-FT': 'vit_large_patch16_224.augreg_in21k_ft_in1k',\n",
    "                   # 'EfficientNet-L2': 'tf_efficientnetv2_l.in21k',\n",
    "                   'ViT-H-14': 'vit_huge_patch14_224_in21k',\n",
    "                   #'BiT-L-ResNet152x4': 'resnetv2_152x4_bit.goog_in21k',\n",
    "                   \n",
    "}\n",
    "# fine-tuning params\n",
    "batch_size = 2048\n",
    "total_batches = 64\n",
    "\n",
    "config = {'selected_dataset': selected_datasets,\n",
    "           'selected_model': selected_models,\n",
    "           'batch_size': batch_size}"
   ]
  },
  {
   "cell_type": "code",
   "execution_count": 3,
   "metadata": {},
   "outputs": [],
   "source": [
    "def evaluate(model, data_loader, device):\n",
    "    y_true = np.array([], dtype=np.int32)\n",
    "    y_pred = np.array([], dtype=np.int32)\n",
    "    \n",
    "    with torch.no_grad():\n",
    "        for i, data in enumerate(data_loader):\n",
    "            if i == total_batches: break\n",
    "            inputs, labels = data\n",
    "            inputs, labels = inputs.to(device), labels.to(device)\n",
    "            outputs = model(inputs)\n",
    "            _, predicted = torch.max(outputs.data, 1)\n",
    "            print(predicted.shape, labels.shape)\n",
    "            \n",
    "            y_true = np.concatenate((y_true, labels.squeeze().cpu()))\n",
    "            y_pred = np.concatenate((y_pred, predicted.cpu()))\n",
    "    \n",
    "    accuracy = np.sum(y_true == y_pred) / len(y_true)\n",
    "    percentage_accuracy = accuracy * 100\n",
    "    return percentage_accuracy"
   ]
  },
  {
   "cell_type": "markdown",
   "metadata": {},
   "source": [
    "### Eval"
   ]
  },
  {
   "cell_type": "code",
   "execution_count": 4,
   "metadata": {},
   "outputs": [
    {
     "name": "stdout",
     "output_type": "stream",
     "text": [
      "Evaluating: ViT-L-16-Oxford-IIIT-Pets ...\n"
     ]
    },
    {
     "name": "stderr",
     "output_type": "stream",
     "text": [
      "Failed to detect the name of this notebook, you can set it manually with the WANDB_NOTEBOOK_NAME environment variable to enable code saving.\n",
      "\u001b[34m\u001b[1mwandb\u001b[0m: Currently logged in as: \u001b[33mmuhammad-shahbaz\u001b[0m (\u001b[33murbanity\u001b[0m). Use \u001b[1m`wandb login --relogin`\u001b[0m to force relogin\n"
     ]
    },
    {
     "data": {
      "text/html": [
       "Tracking run with wandb version 0.15.10"
      ],
      "text/plain": [
       "<IPython.core.display.HTML object>"
      ]
     },
     "metadata": {},
     "output_type": "display_data"
    },
    {
     "data": {
      "text/html": [
       "Run data is saved locally in <code>/lustre/fs1/home/cap6411.student12/vit/wandb/run-20230914_230859-xmylgakd</code>"
      ],
      "text/plain": [
       "<IPython.core.display.HTML object>"
      ]
     },
     "metadata": {},
     "output_type": "display_data"
    },
    {
     "data": {
      "text/html": [
       "Syncing run <strong><a href='https://wandb.ai/urbanity/try%2002%20-%20accuracy/runs/xmylgakd' target=\"_blank\">ViT-L-16-Oxford-IIIT-Pets 2023-09-14 23:08:58</a></strong> to <a href='https://wandb.ai/urbanity/try%2002%20-%20accuracy' target=\"_blank\">Weights & Biases</a> (<a href='https://wandb.me/run' target=\"_blank\">docs</a>)<br/>"
      ],
      "text/plain": [
       "<IPython.core.display.HTML object>"
      ]
     },
     "metadata": {},
     "output_type": "display_data"
    },
    {
     "data": {
      "text/html": [
       " View project at <a href='https://wandb.ai/urbanity/try%2002%20-%20accuracy' target=\"_blank\">https://wandb.ai/urbanity/try%2002%20-%20accuracy</a>"
      ],
      "text/plain": [
       "<IPython.core.display.HTML object>"
      ]
     },
     "metadata": {},
     "output_type": "display_data"
    },
    {
     "data": {
      "text/html": [
       " View run at <a href='https://wandb.ai/urbanity/try%2002%20-%20accuracy/runs/xmylgakd' target=\"_blank\">https://wandb.ai/urbanity/try%2002%20-%20accuracy/runs/xmylgakd</a>"
      ],
      "text/plain": [
       "<IPython.core.display.HTML object>"
      ]
     },
     "metadata": {},
     "output_type": "display_data"
    },
    {
     "name": "stdout",
     "output_type": "stream",
     "text": [
      "torch.Size([2048]) torch.Size([2048, 1])\n",
      "torch.Size([1621]) torch.Size([1621, 1])\n"
     ]
    },
    {
     "data": {
      "text/html": [
       "Waiting for W&B process to finish... <strong style=\"color:green\">(success).</strong>"
      ],
      "text/plain": [
       "<IPython.core.display.HTML object>"
      ]
     },
     "metadata": {},
     "output_type": "display_data"
    },
    {
     "data": {
      "text/html": [
       "<style>\n",
       "    table.wandb td:nth-child(1) { padding: 0 10px; text-align: left ; width: auto;} td:nth-child(2) {text-align: left ; width: 100%}\n",
       "    .wandb-row { display: flex; flex-direction: row; flex-wrap: wrap; justify-content: flex-start; width: 100% }\n",
       "    .wandb-col { display: flex; flex-direction: column; flex-basis: 100%; flex: 1; padding: 10px; }\n",
       "    </style>\n",
       "<div class=\"wandb-row\"><div class=\"wandb-col\"><h3>Run history:</h3><br/><table class=\"wandb\"><tr><td>Accuracy</td><td>▁</td></tr></table><br/></div><div class=\"wandb-col\"><h3>Run summary:</h3><br/><table class=\"wandb\"><tr><td>Accuracy</td><td>2.72554</td></tr><tr><td>Dataset</td><td>Oxford-IIIT-Pets</td></tr><tr><td>Model</td><td>ViT-L-16</td></tr></table><br/></div></div>"
      ],
      "text/plain": [
       "<IPython.core.display.HTML object>"
      ]
     },
     "metadata": {},
     "output_type": "display_data"
    },
    {
     "data": {
      "text/html": [
       " View run <strong style=\"color:#cdcd00\">ViT-L-16-Oxford-IIIT-Pets 2023-09-14 23:08:58</strong> at: <a href='https://wandb.ai/urbanity/try%2002%20-%20accuracy/runs/xmylgakd' target=\"_blank\">https://wandb.ai/urbanity/try%2002%20-%20accuracy/runs/xmylgakd</a><br/>Synced 6 W&B file(s), 0 media file(s), 0 artifact file(s) and 0 other file(s)"
      ],
      "text/plain": [
       "<IPython.core.display.HTML object>"
      ]
     },
     "metadata": {},
     "output_type": "display_data"
    },
    {
     "data": {
      "text/html": [
       "Find logs at: <code>./wandb/run-20230914_230859-xmylgakd/logs</code>"
      ],
      "text/plain": [
       "<IPython.core.display.HTML object>"
      ]
     },
     "metadata": {},
     "output_type": "display_data"
    },
    {
     "name": "stdout",
     "output_type": "stream",
     "text": [
      "Evaluating: ViT-L-16-Oxford-Flowers-102 ...\n"
     ]
    },
    {
     "data": {
      "text/html": [
       "Tracking run with wandb version 0.15.10"
      ],
      "text/plain": [
       "<IPython.core.display.HTML object>"
      ]
     },
     "metadata": {},
     "output_type": "display_data"
    },
    {
     "data": {
      "text/html": [
       "Run data is saved locally in <code>/lustre/fs1/home/cap6411.student12/vit/wandb/run-20230914_230953-n41qg55p</code>"
      ],
      "text/plain": [
       "<IPython.core.display.HTML object>"
      ]
     },
     "metadata": {},
     "output_type": "display_data"
    },
    {
     "data": {
      "text/html": [
       "Syncing run <strong><a href='https://wandb.ai/urbanity/try%2002%20-%20accuracy/runs/n41qg55p' target=\"_blank\">ViT-L-16-Oxford-Flowers-102 2023-09-14 23:09:53</a></strong> to <a href='https://wandb.ai/urbanity/try%2002%20-%20accuracy' target=\"_blank\">Weights & Biases</a> (<a href='https://wandb.me/run' target=\"_blank\">docs</a>)<br/>"
      ],
      "text/plain": [
       "<IPython.core.display.HTML object>"
      ]
     },
     "metadata": {},
     "output_type": "display_data"
    },
    {
     "data": {
      "text/html": [
       " View project at <a href='https://wandb.ai/urbanity/try%2002%20-%20accuracy' target=\"_blank\">https://wandb.ai/urbanity/try%2002%20-%20accuracy</a>"
      ],
      "text/plain": [
       "<IPython.core.display.HTML object>"
      ]
     },
     "metadata": {},
     "output_type": "display_data"
    },
    {
     "data": {
      "text/html": [
       " View run at <a href='https://wandb.ai/urbanity/try%2002%20-%20accuracy/runs/n41qg55p' target=\"_blank\">https://wandb.ai/urbanity/try%2002%20-%20accuracy/runs/n41qg55p</a>"
      ],
      "text/plain": [
       "<IPython.core.display.HTML object>"
      ]
     },
     "metadata": {},
     "output_type": "display_data"
    },
    {
     "name": "stdout",
     "output_type": "stream",
     "text": [
      "torch.Size([1020]) torch.Size([1020, 1])\n"
     ]
    },
    {
     "data": {
      "text/html": [
       "Waiting for W&B process to finish... <strong style=\"color:green\">(success).</strong>"
      ],
      "text/plain": [
       "<IPython.core.display.HTML object>"
      ]
     },
     "metadata": {},
     "output_type": "display_data"
    },
    {
     "data": {
      "text/html": [
       "<style>\n",
       "    table.wandb td:nth-child(1) { padding: 0 10px; text-align: left ; width: auto;} td:nth-child(2) {text-align: left ; width: 100%}\n",
       "    .wandb-row { display: flex; flex-direction: row; flex-wrap: wrap; justify-content: flex-start; width: 100% }\n",
       "    .wandb-col { display: flex; flex-direction: column; flex-basis: 100%; flex: 1; padding: 10px; }\n",
       "    </style>\n",
       "<div class=\"wandb-row\"><div class=\"wandb-col\"><h3>Run history:</h3><br/><table class=\"wandb\"><tr><td>Accuracy</td><td>▁</td></tr></table><br/></div><div class=\"wandb-col\"><h3>Run summary:</h3><br/><table class=\"wandb\"><tr><td>Accuracy</td><td>1.27451</td></tr><tr><td>Dataset</td><td>Oxford-Flowers-102</td></tr><tr><td>Model</td><td>ViT-L-16</td></tr></table><br/></div></div>"
      ],
      "text/plain": [
       "<IPython.core.display.HTML object>"
      ]
     },
     "metadata": {},
     "output_type": "display_data"
    },
    {
     "data": {
      "text/html": [
       " View run <strong style=\"color:#cdcd00\">ViT-L-16-Oxford-Flowers-102 2023-09-14 23:09:53</strong> at: <a href='https://wandb.ai/urbanity/try%2002%20-%20accuracy/runs/n41qg55p' target=\"_blank\">https://wandb.ai/urbanity/try%2002%20-%20accuracy/runs/n41qg55p</a><br/>Synced 6 W&B file(s), 0 media file(s), 0 artifact file(s) and 0 other file(s)"
      ],
      "text/plain": [
       "<IPython.core.display.HTML object>"
      ]
     },
     "metadata": {},
     "output_type": "display_data"
    },
    {
     "data": {
      "text/html": [
       "Find logs at: <code>./wandb/run-20230914_230953-n41qg55p/logs</code>"
      ],
      "text/plain": [
       "<IPython.core.display.HTML object>"
      ]
     },
     "metadata": {},
     "output_type": "display_data"
    },
    {
     "name": "stdout",
     "output_type": "stream",
     "text": [
      "Evaluating: ViT-L-16-CIFAR-10 ...\n"
     ]
    },
    {
     "data": {
      "text/html": [
       "Tracking run with wandb version 0.15.10"
      ],
      "text/plain": [
       "<IPython.core.display.HTML object>"
      ]
     },
     "metadata": {},
     "output_type": "display_data"
    },
    {
     "data": {
      "text/html": [
       "Run data is saved locally in <code>/lustre/fs1/home/cap6411.student12/vit/wandb/run-20230914_231017-wv741imz</code>"
      ],
      "text/plain": [
       "<IPython.core.display.HTML object>"
      ]
     },
     "metadata": {},
     "output_type": "display_data"
    },
    {
     "data": {
      "text/html": [
       "Syncing run <strong><a href='https://wandb.ai/urbanity/try%2002%20-%20accuracy/runs/wv741imz' target=\"_blank\">ViT-L-16-CIFAR-10 2023-09-14 23:10:17</a></strong> to <a href='https://wandb.ai/urbanity/try%2002%20-%20accuracy' target=\"_blank\">Weights & Biases</a> (<a href='https://wandb.me/run' target=\"_blank\">docs</a>)<br/>"
      ],
      "text/plain": [
       "<IPython.core.display.HTML object>"
      ]
     },
     "metadata": {},
     "output_type": "display_data"
    },
    {
     "data": {
      "text/html": [
       " View project at <a href='https://wandb.ai/urbanity/try%2002%20-%20accuracy' target=\"_blank\">https://wandb.ai/urbanity/try%2002%20-%20accuracy</a>"
      ],
      "text/plain": [
       "<IPython.core.display.HTML object>"
      ]
     },
     "metadata": {},
     "output_type": "display_data"
    },
    {
     "data": {
      "text/html": [
       " View run at <a href='https://wandb.ai/urbanity/try%2002%20-%20accuracy/runs/wv741imz' target=\"_blank\">https://wandb.ai/urbanity/try%2002%20-%20accuracy/runs/wv741imz</a>"
      ],
      "text/plain": [
       "<IPython.core.display.HTML object>"
      ]
     },
     "metadata": {},
     "output_type": "display_data"
    },
    {
     "name": "stdout",
     "output_type": "stream",
     "text": [
      "torch.Size([2048]) torch.Size([2048, 1])\n",
      "torch.Size([2048]) torch.Size([2048, 1])\n",
      "torch.Size([2048]) torch.Size([2048, 1])\n",
      "torch.Size([2048]) torch.Size([2048, 1])\n",
      "torch.Size([1808]) torch.Size([1808, 1])\n"
     ]
    },
    {
     "data": {
      "text/html": [
       "Waiting for W&B process to finish... <strong style=\"color:green\">(success).</strong>"
      ],
      "text/plain": [
       "<IPython.core.display.HTML object>"
      ]
     },
     "metadata": {},
     "output_type": "display_data"
    },
    {
     "data": {
      "text/html": [
       "<style>\n",
       "    table.wandb td:nth-child(1) { padding: 0 10px; text-align: left ; width: auto;} td:nth-child(2) {text-align: left ; width: 100%}\n",
       "    .wandb-row { display: flex; flex-direction: row; flex-wrap: wrap; justify-content: flex-start; width: 100% }\n",
       "    .wandb-col { display: flex; flex-direction: column; flex-basis: 100%; flex: 1; padding: 10px; }\n",
       "    </style>\n",
       "<div class=\"wandb-row\"><div class=\"wandb-col\"><h3>Run history:</h3><br/><table class=\"wandb\"><tr><td>Accuracy</td><td>▁</td></tr></table><br/></div><div class=\"wandb-col\"><h3>Run summary:</h3><br/><table class=\"wandb\"><tr><td>Accuracy</td><td>25.85</td></tr><tr><td>Dataset</td><td>CIFAR-10</td></tr><tr><td>Model</td><td>ViT-L-16</td></tr></table><br/></div></div>"
      ],
      "text/plain": [
       "<IPython.core.display.HTML object>"
      ]
     },
     "metadata": {},
     "output_type": "display_data"
    },
    {
     "data": {
      "text/html": [
       " View run <strong style=\"color:#cdcd00\">ViT-L-16-CIFAR-10 2023-09-14 23:10:17</strong> at: <a href='https://wandb.ai/urbanity/try%2002%20-%20accuracy/runs/wv741imz' target=\"_blank\">https://wandb.ai/urbanity/try%2002%20-%20accuracy/runs/wv741imz</a><br/>Synced 6 W&B file(s), 0 media file(s), 0 artifact file(s) and 0 other file(s)"
      ],
      "text/plain": [
       "<IPython.core.display.HTML object>"
      ]
     },
     "metadata": {},
     "output_type": "display_data"
    },
    {
     "data": {
      "text/html": [
       "Find logs at: <code>./wandb/run-20230914_231017-wv741imz/logs</code>"
      ],
      "text/plain": [
       "<IPython.core.display.HTML object>"
      ]
     },
     "metadata": {},
     "output_type": "display_data"
    },
    {
     "name": "stdout",
     "output_type": "stream",
     "text": [
      "Evaluating: ViT-L-16-CIFAR-100 ...\n"
     ]
    },
    {
     "data": {
      "text/html": [
       "Tracking run with wandb version 0.15.10"
      ],
      "text/plain": [
       "<IPython.core.display.HTML object>"
      ]
     },
     "metadata": {},
     "output_type": "display_data"
    },
    {
     "data": {
      "text/html": [
       "Run data is saved locally in <code>/lustre/fs1/home/cap6411.student12/vit/wandb/run-20230914_231124-5wp6ns2h</code>"
      ],
      "text/plain": [
       "<IPython.core.display.HTML object>"
      ]
     },
     "metadata": {},
     "output_type": "display_data"
    },
    {
     "data": {
      "text/html": [
       "Syncing run <strong><a href='https://wandb.ai/urbanity/try%2002%20-%20accuracy/runs/5wp6ns2h' target=\"_blank\">ViT-L-16-CIFAR-100 2023-09-14 23:11:24</a></strong> to <a href='https://wandb.ai/urbanity/try%2002%20-%20accuracy' target=\"_blank\">Weights & Biases</a> (<a href='https://wandb.me/run' target=\"_blank\">docs</a>)<br/>"
      ],
      "text/plain": [
       "<IPython.core.display.HTML object>"
      ]
     },
     "metadata": {},
     "output_type": "display_data"
    },
    {
     "data": {
      "text/html": [
       " View project at <a href='https://wandb.ai/urbanity/try%2002%20-%20accuracy' target=\"_blank\">https://wandb.ai/urbanity/try%2002%20-%20accuracy</a>"
      ],
      "text/plain": [
       "<IPython.core.display.HTML object>"
      ]
     },
     "metadata": {},
     "output_type": "display_data"
    },
    {
     "data": {
      "text/html": [
       " View run at <a href='https://wandb.ai/urbanity/try%2002%20-%20accuracy/runs/5wp6ns2h' target=\"_blank\">https://wandb.ai/urbanity/try%2002%20-%20accuracy/runs/5wp6ns2h</a>"
      ],
      "text/plain": [
       "<IPython.core.display.HTML object>"
      ]
     },
     "metadata": {},
     "output_type": "display_data"
    },
    {
     "name": "stdout",
     "output_type": "stream",
     "text": [
      "torch.Size([2048]) torch.Size([2048, 1])\n",
      "torch.Size([2048]) torch.Size([2048, 1])\n",
      "torch.Size([2048]) torch.Size([2048, 1])\n",
      "torch.Size([2048]) torch.Size([2048, 1])\n",
      "torch.Size([1808]) torch.Size([1808, 1])\n"
     ]
    },
    {
     "data": {
      "text/html": [
       "Waiting for W&B process to finish... <strong style=\"color:green\">(success).</strong>"
      ],
      "text/plain": [
       "<IPython.core.display.HTML object>"
      ]
     },
     "metadata": {},
     "output_type": "display_data"
    },
    {
     "data": {
      "text/html": [
       "<style>\n",
       "    table.wandb td:nth-child(1) { padding: 0 10px; text-align: left ; width: auto;} td:nth-child(2) {text-align: left ; width: 100%}\n",
       "    .wandb-row { display: flex; flex-direction: row; flex-wrap: wrap; justify-content: flex-start; width: 100% }\n",
       "    .wandb-col { display: flex; flex-direction: column; flex-basis: 100%; flex: 1; padding: 10px; }\n",
       "    </style>\n",
       "<div class=\"wandb-row\"><div class=\"wandb-col\"><h3>Run history:</h3><br/><table class=\"wandb\"><tr><td>Accuracy</td><td>▁</td></tr></table><br/></div><div class=\"wandb-col\"><h3>Run summary:</h3><br/><table class=\"wandb\"><tr><td>Accuracy</td><td>12.01</td></tr><tr><td>Dataset</td><td>CIFAR-100</td></tr><tr><td>Model</td><td>ViT-L-16</td></tr></table><br/></div></div>"
      ],
      "text/plain": [
       "<IPython.core.display.HTML object>"
      ]
     },
     "metadata": {},
     "output_type": "display_data"
    },
    {
     "data": {
      "text/html": [
       " View run <strong style=\"color:#cdcd00\">ViT-L-16-CIFAR-100 2023-09-14 23:11:24</strong> at: <a href='https://wandb.ai/urbanity/try%2002%20-%20accuracy/runs/5wp6ns2h' target=\"_blank\">https://wandb.ai/urbanity/try%2002%20-%20accuracy/runs/5wp6ns2h</a><br/>Synced 6 W&B file(s), 0 media file(s), 0 artifact file(s) and 0 other file(s)"
      ],
      "text/plain": [
       "<IPython.core.display.HTML object>"
      ]
     },
     "metadata": {},
     "output_type": "display_data"
    },
    {
     "data": {
      "text/html": [
       "Find logs at: <code>./wandb/run-20230914_231124-5wp6ns2h/logs</code>"
      ],
      "text/plain": [
       "<IPython.core.display.HTML object>"
      ]
     },
     "metadata": {},
     "output_type": "display_data"
    },
    {
     "name": "stdout",
     "output_type": "stream",
     "text": [
      "Evaluating: ViT-L-16-ImageNet ...\n"
     ]
    },
    {
     "data": {
      "text/html": [
       "Tracking run with wandb version 0.15.10"
      ],
      "text/plain": [
       "<IPython.core.display.HTML object>"
      ]
     },
     "metadata": {},
     "output_type": "display_data"
    },
    {
     "data": {
      "text/html": [
       "Run data is saved locally in <code>/lustre/fs1/home/cap6411.student12/vit/wandb/run-20230914_231258-2oynw0je</code>"
      ],
      "text/plain": [
       "<IPython.core.display.HTML object>"
      ]
     },
     "metadata": {},
     "output_type": "display_data"
    },
    {
     "data": {
      "text/html": [
       "Syncing run <strong><a href='https://wandb.ai/urbanity/try%2002%20-%20accuracy/runs/2oynw0je' target=\"_blank\">ViT-L-16-ImageNet 2023-09-14 23:12:58</a></strong> to <a href='https://wandb.ai/urbanity/try%2002%20-%20accuracy' target=\"_blank\">Weights & Biases</a> (<a href='https://wandb.me/run' target=\"_blank\">docs</a>)<br/>"
      ],
      "text/plain": [
       "<IPython.core.display.HTML object>"
      ]
     },
     "metadata": {},
     "output_type": "display_data"
    },
    {
     "data": {
      "text/html": [
       " View project at <a href='https://wandb.ai/urbanity/try%2002%20-%20accuracy' target=\"_blank\">https://wandb.ai/urbanity/try%2002%20-%20accuracy</a>"
      ],
      "text/plain": [
       "<IPython.core.display.HTML object>"
      ]
     },
     "metadata": {},
     "output_type": "display_data"
    },
    {
     "data": {
      "text/html": [
       " View run at <a href='https://wandb.ai/urbanity/try%2002%20-%20accuracy/runs/2oynw0je' target=\"_blank\">https://wandb.ai/urbanity/try%2002%20-%20accuracy/runs/2oynw0je</a>"
      ],
      "text/plain": [
       "<IPython.core.display.HTML object>"
      ]
     },
     "metadata": {},
     "output_type": "display_data"
    },
    {
     "name": "stdout",
     "output_type": "stream",
     "text": [
      "torch.Size([2048]) torch.Size([2048, 1])\n",
      "torch.Size([2048]) torch.Size([2048, 1])\n",
      "torch.Size([2048]) torch.Size([2048, 1])\n",
      "torch.Size([2048]) torch.Size([2048, 1])\n",
      "torch.Size([2048]) torch.Size([2048, 1])\n",
      "torch.Size([2048]) torch.Size([2048, 1])\n",
      "torch.Size([2048]) torch.Size([2048, 1])\n",
      "torch.Size([2048]) torch.Size([2048, 1])\n",
      "torch.Size([2048]) torch.Size([2048, 1])\n",
      "torch.Size([2048]) torch.Size([2048, 1])\n",
      "torch.Size([2048]) torch.Size([2048, 1])\n",
      "torch.Size([2048]) torch.Size([2048, 1])\n",
      "torch.Size([2048]) torch.Size([2048, 1])\n",
      "torch.Size([2048]) torch.Size([2048, 1])\n",
      "torch.Size([2048]) torch.Size([2048, 1])\n",
      "torch.Size([2048]) torch.Size([2048, 1])\n",
      "torch.Size([2048]) torch.Size([2048, 1])\n",
      "torch.Size([2048]) torch.Size([2048, 1])\n",
      "torch.Size([2048]) torch.Size([2048, 1])\n",
      "torch.Size([2048]) torch.Size([2048, 1])\n",
      "torch.Size([2048]) torch.Size([2048, 1])\n",
      "torch.Size([2048]) torch.Size([2048, 1])\n",
      "torch.Size([2048]) torch.Size([2048, 1])\n",
      "torch.Size([2048]) torch.Size([2048, 1])\n",
      "torch.Size([848]) torch.Size([848, 1])\n"
     ]
    },
    {
     "data": {
      "text/html": [
       "Waiting for W&B process to finish... <strong style=\"color:green\">(success).</strong>"
      ],
      "text/plain": [
       "<IPython.core.display.HTML object>"
      ]
     },
     "metadata": {},
     "output_type": "display_data"
    },
    {
     "data": {
      "text/html": [
       "<style>\n",
       "    table.wandb td:nth-child(1) { padding: 0 10px; text-align: left ; width: auto;} td:nth-child(2) {text-align: left ; width: 100%}\n",
       "    .wandb-row { display: flex; flex-direction: row; flex-wrap: wrap; justify-content: flex-start; width: 100% }\n",
       "    .wandb-col { display: flex; flex-direction: column; flex-basis: 100%; flex: 1; padding: 10px; }\n",
       "    </style>\n",
       "<div class=\"wandb-row\"><div class=\"wandb-col\"><h3>Run history:</h3><br/><table class=\"wandb\"><tr><td>Accuracy</td><td>▁</td></tr></table><br/></div><div class=\"wandb-col\"><h3>Run summary:</h3><br/><table class=\"wandb\"><tr><td>Accuracy</td><td>0.0</td></tr><tr><td>Dataset</td><td>ImageNet</td></tr><tr><td>Model</td><td>ViT-L-16</td></tr></table><br/></div></div>"
      ],
      "text/plain": [
       "<IPython.core.display.HTML object>"
      ]
     },
     "metadata": {},
     "output_type": "display_data"
    },
    {
     "data": {
      "text/html": [
       " View run <strong style=\"color:#cdcd00\">ViT-L-16-ImageNet 2023-09-14 23:12:58</strong> at: <a href='https://wandb.ai/urbanity/try%2002%20-%20accuracy/runs/2oynw0je' target=\"_blank\">https://wandb.ai/urbanity/try%2002%20-%20accuracy/runs/2oynw0je</a><br/>Synced 6 W&B file(s), 0 media file(s), 0 artifact file(s) and 0 other file(s)"
      ],
      "text/plain": [
       "<IPython.core.display.HTML object>"
      ]
     },
     "metadata": {},
     "output_type": "display_data"
    },
    {
     "data": {
      "text/html": [
       "Find logs at: <code>./wandb/run-20230914_231258-2oynw0je/logs</code>"
      ],
      "text/plain": [
       "<IPython.core.display.HTML object>"
      ]
     },
     "metadata": {},
     "output_type": "display_data"
    },
    {
     "name": "stdout",
     "output_type": "stream",
     "text": [
      "Evaluating: EfficientNet-L2-Oxford-IIIT-Pets ...\n"
     ]
    },
    {
     "data": {
      "text/html": [
       "Tracking run with wandb version 0.15.10"
      ],
      "text/plain": [
       "<IPython.core.display.HTML object>"
      ]
     },
     "metadata": {},
     "output_type": "display_data"
    },
    {
     "data": {
      "text/html": [
       "Run data is saved locally in <code>/lustre/fs1/home/cap6411.student12/vit/wandb/run-20230914_231857-6u7f2sss</code>"
      ],
      "text/plain": [
       "<IPython.core.display.HTML object>"
      ]
     },
     "metadata": {},
     "output_type": "display_data"
    },
    {
     "data": {
      "text/html": [
       "Syncing run <strong><a href='https://wandb.ai/urbanity/try%2002%20-%20accuracy/runs/6u7f2sss' target=\"_blank\">EfficientNet-L2-Oxford-IIIT-Pets 2023-09-14 23:18:57</a></strong> to <a href='https://wandb.ai/urbanity/try%2002%20-%20accuracy' target=\"_blank\">Weights & Biases</a> (<a href='https://wandb.me/run' target=\"_blank\">docs</a>)<br/>"
      ],
      "text/plain": [
       "<IPython.core.display.HTML object>"
      ]
     },
     "metadata": {},
     "output_type": "display_data"
    },
    {
     "data": {
      "text/html": [
       " View project at <a href='https://wandb.ai/urbanity/try%2002%20-%20accuracy' target=\"_blank\">https://wandb.ai/urbanity/try%2002%20-%20accuracy</a>"
      ],
      "text/plain": [
       "<IPython.core.display.HTML object>"
      ]
     },
     "metadata": {},
     "output_type": "display_data"
    },
    {
     "data": {
      "text/html": [
       " View run at <a href='https://wandb.ai/urbanity/try%2002%20-%20accuracy/runs/6u7f2sss' target=\"_blank\">https://wandb.ai/urbanity/try%2002%20-%20accuracy/runs/6u7f2sss</a>"
      ],
      "text/plain": [
       "<IPython.core.display.HTML object>"
      ]
     },
     "metadata": {},
     "output_type": "display_data"
    },
    {
     "name": "stdout",
     "output_type": "stream",
     "text": [
      "torch.Size([2048]) torch.Size([2048, 1])\n",
      "torch.Size([1621]) torch.Size([1621, 1])\n"
     ]
    },
    {
     "data": {
      "text/html": [
       "Waiting for W&B process to finish... <strong style=\"color:green\">(success).</strong>"
      ],
      "text/plain": [
       "<IPython.core.display.HTML object>"
      ]
     },
     "metadata": {},
     "output_type": "display_data"
    },
    {
     "data": {
      "text/html": [
       "<style>\n",
       "    table.wandb td:nth-child(1) { padding: 0 10px; text-align: left ; width: auto;} td:nth-child(2) {text-align: left ; width: 100%}\n",
       "    .wandb-row { display: flex; flex-direction: row; flex-wrap: wrap; justify-content: flex-start; width: 100% }\n",
       "    .wandb-col { display: flex; flex-direction: column; flex-basis: 100%; flex: 1; padding: 10px; }\n",
       "    </style>\n",
       "<div class=\"wandb-row\"><div class=\"wandb-col\"><h3>Run history:</h3><br/><table class=\"wandb\"><tr><td>Accuracy</td><td>▁</td></tr></table><br/></div><div class=\"wandb-col\"><h3>Run summary:</h3><br/><table class=\"wandb\"><tr><td>Accuracy</td><td>6.07795</td></tr><tr><td>Dataset</td><td>Oxford-IIIT-Pets</td></tr><tr><td>Model</td><td>EfficientNet-L2</td></tr></table><br/></div></div>"
      ],
      "text/plain": [
       "<IPython.core.display.HTML object>"
      ]
     },
     "metadata": {},
     "output_type": "display_data"
    },
    {
     "data": {
      "text/html": [
       " View run <strong style=\"color:#cdcd00\">EfficientNet-L2-Oxford-IIIT-Pets 2023-09-14 23:18:57</strong> at: <a href='https://wandb.ai/urbanity/try%2002%20-%20accuracy/runs/6u7f2sss' target=\"_blank\">https://wandb.ai/urbanity/try%2002%20-%20accuracy/runs/6u7f2sss</a><br/>Synced 6 W&B file(s), 0 media file(s), 0 artifact file(s) and 0 other file(s)"
      ],
      "text/plain": [
       "<IPython.core.display.HTML object>"
      ]
     },
     "metadata": {},
     "output_type": "display_data"
    },
    {
     "data": {
      "text/html": [
       "Find logs at: <code>./wandb/run-20230914_231857-6u7f2sss/logs</code>"
      ],
      "text/plain": [
       "<IPython.core.display.HTML object>"
      ]
     },
     "metadata": {},
     "output_type": "display_data"
    },
    {
     "name": "stdout",
     "output_type": "stream",
     "text": [
      "Evaluating: EfficientNet-L2-Oxford-Flowers-102 ...\n"
     ]
    },
    {
     "data": {
      "text/html": [
       "Tracking run with wandb version 0.15.10"
      ],
      "text/plain": [
       "<IPython.core.display.HTML object>"
      ]
     },
     "metadata": {},
     "output_type": "display_data"
    },
    {
     "data": {
      "text/html": [
       "Run data is saved locally in <code>/lustre/fs1/home/cap6411.student12/vit/wandb/run-20230914_231934-oxti0luf</code>"
      ],
      "text/plain": [
       "<IPython.core.display.HTML object>"
      ]
     },
     "metadata": {},
     "output_type": "display_data"
    },
    {
     "data": {
      "text/html": [
       "Syncing run <strong><a href='https://wandb.ai/urbanity/try%2002%20-%20accuracy/runs/oxti0luf' target=\"_blank\">EfficientNet-L2-Oxford-Flowers-102 2023-09-14 23:19:34</a></strong> to <a href='https://wandb.ai/urbanity/try%2002%20-%20accuracy' target=\"_blank\">Weights & Biases</a> (<a href='https://wandb.me/run' target=\"_blank\">docs</a>)<br/>"
      ],
      "text/plain": [
       "<IPython.core.display.HTML object>"
      ]
     },
     "metadata": {},
     "output_type": "display_data"
    },
    {
     "data": {
      "text/html": [
       " View project at <a href='https://wandb.ai/urbanity/try%2002%20-%20accuracy' target=\"_blank\">https://wandb.ai/urbanity/try%2002%20-%20accuracy</a>"
      ],
      "text/plain": [
       "<IPython.core.display.HTML object>"
      ]
     },
     "metadata": {},
     "output_type": "display_data"
    },
    {
     "data": {
      "text/html": [
       " View run at <a href='https://wandb.ai/urbanity/try%2002%20-%20accuracy/runs/oxti0luf' target=\"_blank\">https://wandb.ai/urbanity/try%2002%20-%20accuracy/runs/oxti0luf</a>"
      ],
      "text/plain": [
       "<IPython.core.display.HTML object>"
      ]
     },
     "metadata": {},
     "output_type": "display_data"
    },
    {
     "name": "stdout",
     "output_type": "stream",
     "text": [
      "torch.Size([1020]) torch.Size([1020, 1])\n"
     ]
    },
    {
     "data": {
      "text/html": [
       "Waiting for W&B process to finish... <strong style=\"color:green\">(success).</strong>"
      ],
      "text/plain": [
       "<IPython.core.display.HTML object>"
      ]
     },
     "metadata": {},
     "output_type": "display_data"
    },
    {
     "data": {
      "text/html": [
       "<style>\n",
       "    table.wandb td:nth-child(1) { padding: 0 10px; text-align: left ; width: auto;} td:nth-child(2) {text-align: left ; width: 100%}\n",
       "    .wandb-row { display: flex; flex-direction: row; flex-wrap: wrap; justify-content: flex-start; width: 100% }\n",
       "    .wandb-col { display: flex; flex-direction: column; flex-basis: 100%; flex: 1; padding: 10px; }\n",
       "    </style>\n",
       "<div class=\"wandb-row\"><div class=\"wandb-col\"><h3>Run history:</h3><br/><table class=\"wandb\"><tr><td>Accuracy</td><td>▁</td></tr></table><br/></div><div class=\"wandb-col\"><h3>Run summary:</h3><br/><table class=\"wandb\"><tr><td>Accuracy</td><td>18.43137</td></tr><tr><td>Dataset</td><td>Oxford-Flowers-102</td></tr><tr><td>Model</td><td>EfficientNet-L2</td></tr></table><br/></div></div>"
      ],
      "text/plain": [
       "<IPython.core.display.HTML object>"
      ]
     },
     "metadata": {},
     "output_type": "display_data"
    },
    {
     "data": {
      "text/html": [
       " View run <strong style=\"color:#cdcd00\">EfficientNet-L2-Oxford-Flowers-102 2023-09-14 23:19:34</strong> at: <a href='https://wandb.ai/urbanity/try%2002%20-%20accuracy/runs/oxti0luf' target=\"_blank\">https://wandb.ai/urbanity/try%2002%20-%20accuracy/runs/oxti0luf</a><br/>Synced 6 W&B file(s), 0 media file(s), 0 artifact file(s) and 0 other file(s)"
      ],
      "text/plain": [
       "<IPython.core.display.HTML object>"
      ]
     },
     "metadata": {},
     "output_type": "display_data"
    },
    {
     "data": {
      "text/html": [
       "Find logs at: <code>./wandb/run-20230914_231934-oxti0luf/logs</code>"
      ],
      "text/plain": [
       "<IPython.core.display.HTML object>"
      ]
     },
     "metadata": {},
     "output_type": "display_data"
    },
    {
     "name": "stdout",
     "output_type": "stream",
     "text": [
      "Evaluating: EfficientNet-L2-CIFAR-10 ...\n"
     ]
    },
    {
     "data": {
      "text/html": [
       "Tracking run with wandb version 0.15.10"
      ],
      "text/plain": [
       "<IPython.core.display.HTML object>"
      ]
     },
     "metadata": {},
     "output_type": "display_data"
    },
    {
     "data": {
      "text/html": [
       "Run data is saved locally in <code>/lustre/fs1/home/cap6411.student12/vit/wandb/run-20230914_231955-vtcmlmtr</code>"
      ],
      "text/plain": [
       "<IPython.core.display.HTML object>"
      ]
     },
     "metadata": {},
     "output_type": "display_data"
    },
    {
     "data": {
      "text/html": [
       "Syncing run <strong><a href='https://wandb.ai/urbanity/try%2002%20-%20accuracy/runs/vtcmlmtr' target=\"_blank\">EfficientNet-L2-CIFAR-10 2023-09-14 23:19:55</a></strong> to <a href='https://wandb.ai/urbanity/try%2002%20-%20accuracy' target=\"_blank\">Weights & Biases</a> (<a href='https://wandb.me/run' target=\"_blank\">docs</a>)<br/>"
      ],
      "text/plain": [
       "<IPython.core.display.HTML object>"
      ]
     },
     "metadata": {},
     "output_type": "display_data"
    },
    {
     "data": {
      "text/html": [
       " View project at <a href='https://wandb.ai/urbanity/try%2002%20-%20accuracy' target=\"_blank\">https://wandb.ai/urbanity/try%2002%20-%20accuracy</a>"
      ],
      "text/plain": [
       "<IPython.core.display.HTML object>"
      ]
     },
     "metadata": {},
     "output_type": "display_data"
    },
    {
     "data": {
      "text/html": [
       " View run at <a href='https://wandb.ai/urbanity/try%2002%20-%20accuracy/runs/vtcmlmtr' target=\"_blank\">https://wandb.ai/urbanity/try%2002%20-%20accuracy/runs/vtcmlmtr</a>"
      ],
      "text/plain": [
       "<IPython.core.display.HTML object>"
      ]
     },
     "metadata": {},
     "output_type": "display_data"
    },
    {
     "name": "stdout",
     "output_type": "stream",
     "text": [
      "torch.Size([2048]) torch.Size([2048, 1])\n",
      "torch.Size([2048]) torch.Size([2048, 1])\n",
      "torch.Size([2048]) torch.Size([2048, 1])\n",
      "torch.Size([2048]) torch.Size([2048, 1])\n",
      "torch.Size([1808]) torch.Size([1808, 1])\n"
     ]
    },
    {
     "data": {
      "text/html": [
       "Waiting for W&B process to finish... <strong style=\"color:green\">(success).</strong>"
      ],
      "text/plain": [
       "<IPython.core.display.HTML object>"
      ]
     },
     "metadata": {},
     "output_type": "display_data"
    },
    {
     "data": {
      "text/html": [
       "<style>\n",
       "    table.wandb td:nth-child(1) { padding: 0 10px; text-align: left ; width: auto;} td:nth-child(2) {text-align: left ; width: 100%}\n",
       "    .wandb-row { display: flex; flex-direction: row; flex-wrap: wrap; justify-content: flex-start; width: 100% }\n",
       "    .wandb-col { display: flex; flex-direction: column; flex-basis: 100%; flex: 1; padding: 10px; }\n",
       "    </style>\n",
       "<div class=\"wandb-row\"><div class=\"wandb-col\"><h3>Run history:</h3><br/><table class=\"wandb\"><tr><td>Accuracy</td><td>▁</td></tr></table><br/></div><div class=\"wandb-col\"><h3>Run summary:</h3><br/><table class=\"wandb\"><tr><td>Accuracy</td><td>58.01</td></tr><tr><td>Dataset</td><td>CIFAR-10</td></tr><tr><td>Model</td><td>EfficientNet-L2</td></tr></table><br/></div></div>"
      ],
      "text/plain": [
       "<IPython.core.display.HTML object>"
      ]
     },
     "metadata": {},
     "output_type": "display_data"
    },
    {
     "data": {
      "text/html": [
       " View run <strong style=\"color:#cdcd00\">EfficientNet-L2-CIFAR-10 2023-09-14 23:19:55</strong> at: <a href='https://wandb.ai/urbanity/try%2002%20-%20accuracy/runs/vtcmlmtr' target=\"_blank\">https://wandb.ai/urbanity/try%2002%20-%20accuracy/runs/vtcmlmtr</a><br/>Synced 6 W&B file(s), 0 media file(s), 0 artifact file(s) and 0 other file(s)"
      ],
      "text/plain": [
       "<IPython.core.display.HTML object>"
      ]
     },
     "metadata": {},
     "output_type": "display_data"
    },
    {
     "data": {
      "text/html": [
       "Find logs at: <code>./wandb/run-20230914_231955-vtcmlmtr/logs</code>"
      ],
      "text/plain": [
       "<IPython.core.display.HTML object>"
      ]
     },
     "metadata": {},
     "output_type": "display_data"
    },
    {
     "name": "stdout",
     "output_type": "stream",
     "text": [
      "Evaluating: EfficientNet-L2-CIFAR-100 ...\n"
     ]
    },
    {
     "data": {
      "text/html": [
       "Tracking run with wandb version 0.15.10"
      ],
      "text/plain": [
       "<IPython.core.display.HTML object>"
      ]
     },
     "metadata": {},
     "output_type": "display_data"
    },
    {
     "data": {
      "text/html": [
       "Run data is saved locally in <code>/lustre/fs1/home/cap6411.student12/vit/wandb/run-20230914_232028-kkutpe81</code>"
      ],
      "text/plain": [
       "<IPython.core.display.HTML object>"
      ]
     },
     "metadata": {},
     "output_type": "display_data"
    },
    {
     "data": {
      "text/html": [
       "Syncing run <strong><a href='https://wandb.ai/urbanity/try%2002%20-%20accuracy/runs/kkutpe81' target=\"_blank\">EfficientNet-L2-CIFAR-100 2023-09-14 23:20:28</a></strong> to <a href='https://wandb.ai/urbanity/try%2002%20-%20accuracy' target=\"_blank\">Weights & Biases</a> (<a href='https://wandb.me/run' target=\"_blank\">docs</a>)<br/>"
      ],
      "text/plain": [
       "<IPython.core.display.HTML object>"
      ]
     },
     "metadata": {},
     "output_type": "display_data"
    },
    {
     "data": {
      "text/html": [
       " View project at <a href='https://wandb.ai/urbanity/try%2002%20-%20accuracy' target=\"_blank\">https://wandb.ai/urbanity/try%2002%20-%20accuracy</a>"
      ],
      "text/plain": [
       "<IPython.core.display.HTML object>"
      ]
     },
     "metadata": {},
     "output_type": "display_data"
    },
    {
     "data": {
      "text/html": [
       " View run at <a href='https://wandb.ai/urbanity/try%2002%20-%20accuracy/runs/kkutpe81' target=\"_blank\">https://wandb.ai/urbanity/try%2002%20-%20accuracy/runs/kkutpe81</a>"
      ],
      "text/plain": [
       "<IPython.core.display.HTML object>"
      ]
     },
     "metadata": {},
     "output_type": "display_data"
    },
    {
     "name": "stdout",
     "output_type": "stream",
     "text": [
      "torch.Size([2048]) torch.Size([2048, 1])\n",
      "torch.Size([2048]) torch.Size([2048, 1])\n",
      "torch.Size([2048]) torch.Size([2048, 1])\n",
      "torch.Size([2048]) torch.Size([2048, 1])\n",
      "torch.Size([1808]) torch.Size([1808, 1])\n"
     ]
    },
    {
     "data": {
      "text/html": [
       "Waiting for W&B process to finish... <strong style=\"color:green\">(success).</strong>"
      ],
      "text/plain": [
       "<IPython.core.display.HTML object>"
      ]
     },
     "metadata": {},
     "output_type": "display_data"
    },
    {
     "data": {
      "text/html": [
       "<style>\n",
       "    table.wandb td:nth-child(1) { padding: 0 10px; text-align: left ; width: auto;} td:nth-child(2) {text-align: left ; width: 100%}\n",
       "    .wandb-row { display: flex; flex-direction: row; flex-wrap: wrap; justify-content: flex-start; width: 100% }\n",
       "    .wandb-col { display: flex; flex-direction: column; flex-basis: 100%; flex: 1; padding: 10px; }\n",
       "    </style>\n",
       "<div class=\"wandb-row\"><div class=\"wandb-col\"><h3>Run history:</h3><br/><table class=\"wandb\"><tr><td>Accuracy</td><td>▁</td></tr></table><br/></div><div class=\"wandb-col\"><h3>Run summary:</h3><br/><table class=\"wandb\"><tr><td>Accuracy</td><td>50.77</td></tr><tr><td>Dataset</td><td>CIFAR-100</td></tr><tr><td>Model</td><td>EfficientNet-L2</td></tr></table><br/></div></div>"
      ],
      "text/plain": [
       "<IPython.core.display.HTML object>"
      ]
     },
     "metadata": {},
     "output_type": "display_data"
    },
    {
     "data": {
      "text/html": [
       " View run <strong style=\"color:#cdcd00\">EfficientNet-L2-CIFAR-100 2023-09-14 23:20:28</strong> at: <a href='https://wandb.ai/urbanity/try%2002%20-%20accuracy/runs/kkutpe81' target=\"_blank\">https://wandb.ai/urbanity/try%2002%20-%20accuracy/runs/kkutpe81</a><br/>Synced 6 W&B file(s), 0 media file(s), 0 artifact file(s) and 0 other file(s)"
      ],
      "text/plain": [
       "<IPython.core.display.HTML object>"
      ]
     },
     "metadata": {},
     "output_type": "display_data"
    },
    {
     "data": {
      "text/html": [
       "Find logs at: <code>./wandb/run-20230914_232028-kkutpe81/logs</code>"
      ],
      "text/plain": [
       "<IPython.core.display.HTML object>"
      ]
     },
     "metadata": {},
     "output_type": "display_data"
    },
    {
     "name": "stdout",
     "output_type": "stream",
     "text": [
      "Evaluating: EfficientNet-L2-ImageNet ...\n"
     ]
    },
    {
     "data": {
      "text/html": [
       "Tracking run with wandb version 0.15.10"
      ],
      "text/plain": [
       "<IPython.core.display.HTML object>"
      ]
     },
     "metadata": {},
     "output_type": "display_data"
    },
    {
     "data": {
      "text/html": [
       "Run data is saved locally in <code>/lustre/fs1/home/cap6411.student12/vit/wandb/run-20230914_232134-8cla1gne</code>"
      ],
      "text/plain": [
       "<IPython.core.display.HTML object>"
      ]
     },
     "metadata": {},
     "output_type": "display_data"
    },
    {
     "data": {
      "text/html": [
       "Syncing run <strong><a href='https://wandb.ai/urbanity/try%2002%20-%20accuracy/runs/8cla1gne' target=\"_blank\">EfficientNet-L2-ImageNet 2023-09-14 23:21:34</a></strong> to <a href='https://wandb.ai/urbanity/try%2002%20-%20accuracy' target=\"_blank\">Weights & Biases</a> (<a href='https://wandb.me/run' target=\"_blank\">docs</a>)<br/>"
      ],
      "text/plain": [
       "<IPython.core.display.HTML object>"
      ]
     },
     "metadata": {},
     "output_type": "display_data"
    },
    {
     "data": {
      "text/html": [
       " View project at <a href='https://wandb.ai/urbanity/try%2002%20-%20accuracy' target=\"_blank\">https://wandb.ai/urbanity/try%2002%20-%20accuracy</a>"
      ],
      "text/plain": [
       "<IPython.core.display.HTML object>"
      ]
     },
     "metadata": {},
     "output_type": "display_data"
    },
    {
     "data": {
      "text/html": [
       " View run at <a href='https://wandb.ai/urbanity/try%2002%20-%20accuracy/runs/8cla1gne' target=\"_blank\">https://wandb.ai/urbanity/try%2002%20-%20accuracy/runs/8cla1gne</a>"
      ],
      "text/plain": [
       "<IPython.core.display.HTML object>"
      ]
     },
     "metadata": {},
     "output_type": "display_data"
    },
    {
     "name": "stdout",
     "output_type": "stream",
     "text": [
      "torch.Size([2048]) torch.Size([2048, 1])\n",
      "torch.Size([2048]) torch.Size([2048, 1])\n",
      "torch.Size([2048]) torch.Size([2048, 1])\n",
      "torch.Size([2048]) torch.Size([2048, 1])\n",
      "torch.Size([2048]) torch.Size([2048, 1])\n",
      "torch.Size([2048]) torch.Size([2048, 1])\n",
      "torch.Size([2048]) torch.Size([2048, 1])\n",
      "torch.Size([2048]) torch.Size([2048, 1])\n",
      "torch.Size([2048]) torch.Size([2048, 1])\n",
      "torch.Size([2048]) torch.Size([2048, 1])\n",
      "torch.Size([2048]) torch.Size([2048, 1])\n",
      "torch.Size([2048]) torch.Size([2048, 1])\n",
      "torch.Size([2048]) torch.Size([2048, 1])\n",
      "torch.Size([2048]) torch.Size([2048, 1])\n",
      "torch.Size([2048]) torch.Size([2048, 1])\n",
      "torch.Size([2048]) torch.Size([2048, 1])\n",
      "torch.Size([2048]) torch.Size([2048, 1])\n",
      "torch.Size([2048]) torch.Size([2048, 1])\n",
      "torch.Size([2048]) torch.Size([2048, 1])\n",
      "torch.Size([2048]) torch.Size([2048, 1])\n",
      "torch.Size([2048]) torch.Size([2048, 1])\n",
      "torch.Size([2048]) torch.Size([2048, 1])\n",
      "torch.Size([2048]) torch.Size([2048, 1])\n",
      "torch.Size([2048]) torch.Size([2048, 1])\n",
      "torch.Size([848]) torch.Size([848, 1])\n"
     ]
    },
    {
     "data": {
      "text/html": [
       "Waiting for W&B process to finish... <strong style=\"color:green\">(success).</strong>"
      ],
      "text/plain": [
       "<IPython.core.display.HTML object>"
      ]
     },
     "metadata": {},
     "output_type": "display_data"
    },
    {
     "data": {
      "text/html": [
       "<style>\n",
       "    table.wandb td:nth-child(1) { padding: 0 10px; text-align: left ; width: auto;} td:nth-child(2) {text-align: left ; width: 100%}\n",
       "    .wandb-row { display: flex; flex-direction: row; flex-wrap: wrap; justify-content: flex-start; width: 100% }\n",
       "    .wandb-col { display: flex; flex-direction: column; flex-basis: 100%; flex: 1; padding: 10px; }\n",
       "    </style>\n",
       "<div class=\"wandb-row\"><div class=\"wandb-col\"><h3>Run history:</h3><br/><table class=\"wandb\"><tr><td>Accuracy</td><td>▁</td></tr></table><br/></div><div class=\"wandb-col\"><h3>Run summary:</h3><br/><table class=\"wandb\"><tr><td>Accuracy</td><td>0.0</td></tr><tr><td>Dataset</td><td>ImageNet</td></tr><tr><td>Model</td><td>EfficientNet-L2</td></tr></table><br/></div></div>"
      ],
      "text/plain": [
       "<IPython.core.display.HTML object>"
      ]
     },
     "metadata": {},
     "output_type": "display_data"
    },
    {
     "data": {
      "text/html": [
       " View run <strong style=\"color:#cdcd00\">EfficientNet-L2-ImageNet 2023-09-14 23:21:34</strong> at: <a href='https://wandb.ai/urbanity/try%2002%20-%20accuracy/runs/8cla1gne' target=\"_blank\">https://wandb.ai/urbanity/try%2002%20-%20accuracy/runs/8cla1gne</a><br/>Synced 6 W&B file(s), 0 media file(s), 0 artifact file(s) and 0 other file(s)"
      ],
      "text/plain": [
       "<IPython.core.display.HTML object>"
      ]
     },
     "metadata": {},
     "output_type": "display_data"
    },
    {
     "data": {
      "text/html": [
       "Find logs at: <code>./wandb/run-20230914_232134-8cla1gne/logs</code>"
      ],
      "text/plain": [
       "<IPython.core.display.HTML object>"
      ]
     },
     "metadata": {},
     "output_type": "display_data"
    }
   ],
   "source": [
    "table = wandb.Table(columns=['Dataset', *selected_models.keys()])\n",
    "for model_title, model_id in selected_models.items():\n",
    "    for dataset_title, data_id in selected_datasets.items():\n",
    "        print(f'Evaluating: {model_title}-{dataset_title} ...')\n",
    "        dataset = load_dataset(data_id)\n",
    "        key = [*dataset['train'].features.keys()][-1]\n",
    "        if dataset_title == 'ImageNet':\n",
    "            model = timm.create_model(model_id, pretrained=True)\n",
    "            model.to('cuda:0')\n",
    "            model.requires_grad_(False)\n",
    "            model = torch.nn.DataParallel(model, device_ids=[0])\n",
    "        else:\n",
    "            model = timm.create_model(model_id, pretrained=True, num_classes=len(dataset['train'].features[key].names))\n",
    "            model.to('cuda:0')\n",
    "            model.requires_grad_(False)\n",
    "            model = torch.nn.DataParallel(model, device_ids=[0])\n",
    "            model.load_state_dict(torch.load(f'{model_title}-{dataset_title}.pt'))\n",
    "        model_configs = timm.data.resolve_data_config(model=model)\n",
    "        data_transform = timm.data.create_transform(**model_configs)\n",
    "        def collate_fn(batch_items):\n",
    "            keys = [*batch_items[0].keys()]\n",
    "            pixel_values = torch.stack([data_transform(example[keys[0]].convert('RGB')) for example in batch_items])\n",
    "            labels = torch.tensor([[example[keys[-1]]] for example in batch_items])\n",
    "            return (pixel_values, labels)\n",
    "        test = 'validation' if 'validation' in dataset else 'test'\n",
    "        dataloader = timm.data.create_loader(dataset[test],\n",
    "                                model_configs['input_size'],\n",
    "                                batch_size=config['batch_size'],\n",
    "                                collate_fn=lambda x: collate_fn(x))\n",
    "        run = wandb.init(project='try 02 - accuracy',\n",
    "                     # time\n",
    "                     name=model_title + '-' + dataset_title + ' ' + time.strftime('%Y-%m-%d %H:%M:%S', time.localtime(time.time())),\n",
    "                     tags=[model_title, dataset_title],\n",
    "                     job_type='eval')\n",
    "        wandb.config=config,\n",
    "    \n",
    "        accuracy = evaluate(model, dataloader, 'cuda:0')\n",
    "        wandb.log({'Model': model_title, 'Dataset': dataset_title, 'Accuracy': accuracy})\n",
    "        run.finish()\n",
    "        del model\n",
    "        del dataloader\n",
    "        del dataset\n",
    "        torch.cuda.empty_cache()\n",
    "        "
   ]
  }
 ],
 "metadata": {
  "kernelspec": {
   "display_name": "ViT",
   "language": "python",
   "name": "python3"
  },
  "language_info": {
   "codemirror_mode": {
    "name": "ipython",
    "version": 3
   },
   "file_extension": ".py",
   "mimetype": "text/x-python",
   "name": "python",
   "nbconvert_exporter": "python",
   "pygments_lexer": "ipython3",
   "version": "3.9.18"
  }
 },
 "nbformat": 4,
 "nbformat_minor": 4
}
